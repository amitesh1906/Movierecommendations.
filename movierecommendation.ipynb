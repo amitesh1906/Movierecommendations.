{
  "nbformat": 4,
  "nbformat_minor": 0,
  "metadata": {
    "colab": {
      "provenance": [],
      "toc_visible": true,
      "authorship_tag": "ABX9TyMP0jrJ8byGD9oQk/JV+yWI",
      "include_colab_link": true
    },
    "kernelspec": {
      "name": "python3",
      "display_name": "Python 3"
    },
    "language_info": {
      "name": "python"
    }
  },
  "cells": [
    {
      "cell_type": "markdown",
      "metadata": {
        "id": "view-in-github",
        "colab_type": "text"
      },
      "source": [
        "<a href=\"https://colab.research.google.com/github/amitesh1906/Movierecommendations./blob/main/movierecommendation.ipynb\" target=\"_parent\"><img src=\"https://colab.research.google.com/assets/colab-badge.svg\" alt=\"Open In Colab\"/></a>"
      ]
    },
    {
      "cell_type": "markdown",
      "source": [
        "Title of Project:\n",
        "Movie Recommendation System Using Content-Based Filtering"
      ],
      "metadata": {
        "id": "ljo-XAn1EHne"
      }
    },
    {
      "cell_type": "markdown",
      "source": [
        "Objective:\n",
        "To build a movie recommendation system that suggests similar movies based on the user’s favorite movie using content-based filtering. The system uses movie metadata such as genre, language, keywords, vote count, and popularity to calculate similarity scores between movies."
      ],
      "metadata": {
        "id": "gBRfqhGqEMsA"
      }
    },
    {
      "cell_type": "markdown",
      "source": [
        "Data Source:\n",
        "The dataset is sourced from the GitHub repository:\n",
        "https://github.com/YBIFoundation/Dataset/raw/main/Movies%20Recommendation.csv"
      ],
      "metadata": {
        "id": "dcls-eyRESxf"
      }
    },
    {
      "cell_type": "markdown",
      "source": [
        "Import Library\n",
        "This section imports the necessary libraries required for data manipulation, machine learning, and similarity computation."
      ],
      "metadata": {
        "id": "Mv-PuZCYEZp9"
      }
    },
    {
      "cell_type": "code",
      "execution_count": 1,
      "metadata": {
        "id": "EOqqtc7QEGcy"
      },
      "outputs": [],
      "source": [
        "import pandas as pd\n",
        "import numpy as np\n",
        "from sklearn.feature_extraction.text import TfidfVectorizer\n",
        "from sklearn.metrics.pairwise import cosine_similarity\n",
        "import difflib\n"
      ]
    },
    {
      "cell_type": "markdown",
      "source": [
        "Import Data\n",
        "Read the movie dataset from the CSV file using Pandas.\n",
        "\n"
      ],
      "metadata": {
        "id": "0r487KIqEe7z"
      }
    },
    {
      "cell_type": "code",
      "source": [
        "df = pd.read_csv(r'https://github.com/YBIFoundation/Dataset/raw/main/Movies%20Recommendation.csv')\n"
      ],
      "metadata": {
        "id": "o2d-sM7uEl15"
      },
      "execution_count": 2,
      "outputs": []
    },
    {
      "cell_type": "markdown",
      "source": [
        "Describe Data\n",
        "This section provides an overview of the dataset, such as column names, data types, and the shape of the data."
      ],
      "metadata": {
        "id": "ErEjP2LGEoR-"
      }
    },
    {
      "cell_type": "code",
      "source": [
        "print(df.head())  # Display the first few rows of the dataset\n",
        "print(df.info())  # Show data types and missing values\n",
        "print(df.shape)   # Show the dimensions of the dataset\n",
        "print(df.columns) # Display column names\n"
      ],
      "metadata": {
        "colab": {
          "base_uri": "https://localhost:8080/"
        },
        "id": "92Gv4lTzEpU8",
        "outputId": "33fb92ba-9036-415c-c125-c03f3120dba4"
      },
      "execution_count": 3,
      "outputs": [
        {
          "output_type": "stream",
          "name": "stdout",
          "text": [
            "   Movie_ID      Movie_Title                       Movie_Genre Movie_Language  \\\n",
            "0         1       Four Rooms                      Crime Comedy             en   \n",
            "1         2        Star Wars  Adventure Action Science Fiction             en   \n",
            "2         3     Finding Nemo                  Animation Family             en   \n",
            "3         4     Forrest Gump              Comedy Drama Romance             en   \n",
            "4         5  American Beauty                             Drama             en   \n",
            "\n",
            "   Movie_Budget  Movie_Popularity Movie_Release_Date  Movie_Revenue  \\\n",
            "0       4000000         22.876230         09-12-1995        4300000   \n",
            "1      11000000        126.393695         25-05-1977      775398007   \n",
            "2      94000000         85.688789         30-05-2003      940335536   \n",
            "3      55000000        138.133331         06-07-1994      677945399   \n",
            "4      15000000         80.878605         15-09-1999      356296601   \n",
            "\n",
            "   Movie_Runtime  Movie_Vote  ...  \\\n",
            "0           98.0         6.5  ...   \n",
            "1          121.0         8.1  ...   \n",
            "2          100.0         7.6  ...   \n",
            "3          142.0         8.2  ...   \n",
            "4          122.0         7.9  ...   \n",
            "\n",
            "                                      Movie_Homepage  \\\n",
            "0                                                NaN   \n",
            "1  http://www.starwars.com/films/star-wars-episod...   \n",
            "2              http://movies.disney.com/finding-nemo   \n",
            "3                                                NaN   \n",
            "4                      http://www.dreamworks.com/ab/   \n",
            "\n",
            "                                      Movie_Keywords  \\\n",
            "0          hotel new year's eve witch bet hotel room   \n",
            "1        android galaxy hermit death star lightsaber   \n",
            "2  father son relationship harbor underwater fish...   \n",
            "3  vietnam veteran hippie mentally disabled runni...   \n",
            "4  male nudity female nudity adultery midlife cri...   \n",
            "\n",
            "                                      Movie_Overview  \\\n",
            "0  It's Ted the Bellhop's first night on the job....   \n",
            "1  Princess Leia is captured and held hostage by ...   \n",
            "2  Nemo, an adventurous young clownfish, is unexp...   \n",
            "3  A man with a low IQ has accomplished great thi...   \n",
            "4  Lester Burnham, a depressed suburban father in...   \n",
            "\n",
            "                              Movie_Production_House  \\\n",
            "0  [{\"name\": \"Miramax Films\", \"id\": 14}, {\"name\":...   \n",
            "1  [{\"name\": \"Lucasfilm\", \"id\": 1}, {\"name\": \"Twe...   \n",
            "2     [{\"name\": \"Pixar Animation Studios\", \"id\": 3}]   \n",
            "3          [{\"name\": \"Paramount Pictures\", \"id\": 4}]   \n",
            "4  [{\"name\": \"DreamWorks SKG\", \"id\": 27}, {\"name\"...   \n",
            "\n",
            "                            Movie_Production_Country  \\\n",
            "0  [{\"iso_3166_1\": \"US\", \"name\": \"United States o...   \n",
            "1  [{\"iso_3166_1\": \"US\", \"name\": \"United States o...   \n",
            "2  [{\"iso_3166_1\": \"US\", \"name\": \"United States o...   \n",
            "3  [{\"iso_3166_1\": \"US\", \"name\": \"United States o...   \n",
            "4  [{\"iso_3166_1\": \"US\", \"name\": \"United States o...   \n",
            "\n",
            "                      Movie_Spoken_Language  \\\n",
            "0  [{\"iso_639_1\": \"en\", \"name\": \"English\"}]   \n",
            "1  [{\"iso_639_1\": \"en\", \"name\": \"English\"}]   \n",
            "2  [{\"iso_639_1\": \"en\", \"name\": \"English\"}]   \n",
            "3  [{\"iso_639_1\": \"en\", \"name\": \"English\"}]   \n",
            "4  [{\"iso_639_1\": \"en\", \"name\": \"English\"}]   \n",
            "\n",
            "                                       Movie_Tagline  \\\n",
            "0  Twelve outrageous guests. Four scandalous requ...   \n",
            "1       A long time ago in a galaxy far, far away...   \n",
            "2  There are 3.7 trillion fish in the ocean, they...   \n",
            "3  The world will never be the same, once you've ...   \n",
            "4                                       Look closer.   \n",
            "\n",
            "                                          Movie_Cast  \\\n",
            "0  Tim Roth Antonio Banderas Jennifer Beals Madon...   \n",
            "1  Mark Hamill Harrison Ford Carrie Fisher Peter ...   \n",
            "2  Albert Brooks Ellen DeGeneres Alexander Gould ...   \n",
            "3  Tom Hanks Robin Wright Gary Sinise Mykelti Wil...   \n",
            "4  Kevin Spacey Annette Bening Thora Birch Wes Be...   \n",
            "\n",
            "                                          Movie_Crew   Movie_Director  \n",
            "0  [{'name': 'Allison Anders', 'gender': 1, 'depa...   Allison Anders  \n",
            "1  [{'name': 'George Lucas', 'gender': 2, 'depart...     George Lucas  \n",
            "2  [{'name': 'Andrew Stanton', 'gender': 2, 'depa...   Andrew Stanton  \n",
            "3  [{'name': 'Alan Silvestri', 'gender': 2, 'depa...  Robert Zemeckis  \n",
            "4  [{'name': 'Thomas Newman', 'gender': 2, 'depar...       Sam Mendes  \n",
            "\n",
            "[5 rows x 21 columns]\n",
            "<class 'pandas.core.frame.DataFrame'>\n",
            "RangeIndex: 4760 entries, 0 to 4759\n",
            "Data columns (total 21 columns):\n",
            " #   Column                    Non-Null Count  Dtype  \n",
            "---  ------                    --------------  -----  \n",
            " 0   Movie_ID                  4760 non-null   int64  \n",
            " 1   Movie_Title               4760 non-null   object \n",
            " 2   Movie_Genre               4760 non-null   object \n",
            " 3   Movie_Language            4760 non-null   object \n",
            " 4   Movie_Budget              4760 non-null   int64  \n",
            " 5   Movie_Popularity          4760 non-null   float64\n",
            " 6   Movie_Release_Date        4760 non-null   object \n",
            " 7   Movie_Revenue             4760 non-null   int64  \n",
            " 8   Movie_Runtime             4758 non-null   float64\n",
            " 9   Movie_Vote                4760 non-null   float64\n",
            " 10  Movie_Vote_Count          4760 non-null   int64  \n",
            " 11  Movie_Homepage            1699 non-null   object \n",
            " 12  Movie_Keywords            4373 non-null   object \n",
            " 13  Movie_Overview            4757 non-null   object \n",
            " 14  Movie_Production_House    4760 non-null   object \n",
            " 15  Movie_Production_Country  4760 non-null   object \n",
            " 16  Movie_Spoken_Language     4760 non-null   object \n",
            " 17  Movie_Tagline             3942 non-null   object \n",
            " 18  Movie_Cast                4733 non-null   object \n",
            " 19  Movie_Crew                4760 non-null   object \n",
            " 20  Movie_Director            4738 non-null   object \n",
            "dtypes: float64(3), int64(4), object(14)\n",
            "memory usage: 781.1+ KB\n",
            "None\n",
            "(4760, 21)\n",
            "Index(['Movie_ID', 'Movie_Title', 'Movie_Genre', 'Movie_Language',\n",
            "       'Movie_Budget', 'Movie_Popularity', 'Movie_Release_Date',\n",
            "       'Movie_Revenue', 'Movie_Runtime', 'Movie_Vote', 'Movie_Vote_Count',\n",
            "       'Movie_Homepage', 'Movie_Keywords', 'Movie_Overview',\n",
            "       'Movie_Production_House', 'Movie_Production_Country',\n",
            "       'Movie_Spoken_Language', 'Movie_Tagline', 'Movie_Cast', 'Movie_Crew',\n",
            "       'Movie_Director'],\n",
            "      dtype='object')\n"
          ]
        }
      ]
    },
    {
      "cell_type": "markdown",
      "source": [
        "Data Preprocessing\n",
        "Select relevant features for building the recommendation system and handle missing values."
      ],
      "metadata": {
        "id": "v6z_wbz5Et8U"
      }
    },
    {
      "cell_type": "code",
      "source": [
        "df_features = df[['Movie_Genre', 'Movie_Language', 'Movie_Keywords', 'Movie_Vote_Count', 'Movie_Popularity']].fillna('')\n"
      ],
      "metadata": {
        "id": "XAAtl7woEuqg"
      },
      "execution_count": 4,
      "outputs": []
    },
    {
      "cell_type": "code",
      "source": [
        "X = df_features['Movie_Genre'] + ' ' + df_features['Movie_Language'] + ' ' + df_features['Movie_Keywords'] + ' ' + df_features['Movie_Vote_Count'].astype(str) + ' ' + df_features['Movie_Popularity'].astype(str)\n"
      ],
      "metadata": {
        "id": "XDoQ2U6yEzIc"
      },
      "execution_count": 5,
      "outputs": []
    },
    {
      "cell_type": "markdown",
      "source": [
        "Define Target Variable (y) and Feature Variables (X)\n",
        "Convert the combined features into a numerical matrix using TF-IDF Vectorizer, which helps in weighting the importance of words in the context of the dataset."
      ],
      "metadata": {
        "id": "3Oi20VLQE396"
      }
    },
    {
      "cell_type": "code",
      "source": [
        "tfidf = TfidfVectorizer()\n",
        "X = tfidf.fit_transform(X)\n"
      ],
      "metadata": {
        "id": "T4ByuiWlE5gh"
      },
      "execution_count": 6,
      "outputs": []
    },
    {
      "cell_type": "markdown",
      "source": [
        "Modeling\n",
        "Use cosine similarity to measure the similarity between movies based on their features."
      ],
      "metadata": {
        "id": "jRRIdVqOFCXT"
      }
    },
    {
      "cell_type": "code",
      "source": [
        "similarity_Score = cosine_similarity(X)\n"
      ],
      "metadata": {
        "id": "jWawZFOmFDbt"
      },
      "execution_count": 7,
      "outputs": []
    },
    {
      "cell_type": "markdown",
      "source": [
        "Prediction\n",
        "Get recommendations for a user-input movie name. Find the closest match and suggest similar movies based on similarity scores"
      ],
      "metadata": {
        "id": "qBMJVs1xFGeQ"
      }
    },
    {
      "cell_type": "code",
      "source": [
        "# Input from the user for their favorite movie\n",
        "Favourite_Movie_Name = input('Enter your favourite movie name: ')\n",
        "\n",
        "# Convert the 'Movie_Title' column into a list and find the closest match\n",
        "All_Movies_Title_List = df['Movie_Title'].tolist()\n",
        "Movie_Recommendation = difflib.get_close_matches(Favourite_Movie_Name, All_Movies_Title_List)\n",
        "\n",
        "# Get the closest matching movie and its index\n",
        "Close_Match = Movie_Recommendation[0]\n",
        "Index_of_Close_Match_Movie = df[df['Movie_Title'] == Close_Match][\"Movie_ID\"].values[0]\n",
        "\n",
        "# Compute similarity scores for the closest match\n",
        "Recommendation_Score = list(enumerate(similarity_Score[Index_of_Close_Match_Movie]))\n",
        "\n",
        "# Sort movies by similarity score\n",
        "Sorted_Similar_Movies = sorted(Recommendation_Score, key=lambda x: x[1], reverse=True)\n",
        "\n",
        "# Display top 30 recommended movies\n",
        "print(\"Top 30 Movies Recommended for You:\\n\")\n",
        "i = 1\n",
        "for movie in Sorted_Similar_Movies:\n",
        "    index = movie[0]\n",
        "    title_from_index = df.loc[index, \"Movie_Title\"]\n",
        "    if i <= 30:\n",
        "        print(f\"{i}. {title_from_index}\")\n",
        "        i += 1\n"
      ],
      "metadata": {
        "colab": {
          "base_uri": "https://localhost:8080/"
        },
        "id": "eiSK_U10FEV1",
        "outputId": "46c93077-b440-4e89-cc09-711efd3b3ca6"
      },
      "execution_count": 10,
      "outputs": [
        {
          "output_type": "stream",
          "name": "stdout",
          "text": [
            "Enter your favourite movie name: punj\n",
            "Top 30 Movies Recommended for You:\n",
            "\n",
            "1. Mad Money\n",
            "2. Kiss of Death\n",
            "3. Civil Brand\n",
            "4. The Three Stooges\n",
            "5. RockNRolla\n",
            "6. Sugar Town\n",
            "7. Baby's Day Out\n",
            "8. Without Men\n",
            "9. It's a Mad, Mad, Mad, Mad World\n",
            "10. Proud\n",
            "11. The Young Unknowns\n",
            "12. Archaeology of a Woman\n",
            "13. Phat Girlz\n",
            "14. Next Friday\n",
            "15. Chasing Papi\n",
            "16. Yes\n",
            "17. Lovely & Amazing\n",
            "18. Kangaroo Jack\n",
            "19. Walking and Talking\n",
            "20. I Love You, Don't Touch Me!\n",
            "21. Woman on Top\n",
            "22. There's Always Woodstock\n",
            "23. Windsor Drive\n",
            "24. How to Deal\n",
            "25. Peeples\n",
            "26. The Trials Of Darryl Hunt\n",
            "27. Sisters in Law\n",
            "28. Born to Fly: Elizabeth Streb vs. Gravity\n",
            "29. Butterfly Girl\n",
            "30. Antarctic Edge: 70° South\n"
          ]
        }
      ]
    },
    {
      "cell_type": "markdown",
      "source": [
        "Model Evaluation\n",
        "Provide a subset of top 10 recommendations based on the similarity score to evaluate the system's output quality."
      ],
      "metadata": {
        "id": "NKeL3pZlFPqE"
      }
    },
    {
      "cell_type": "code",
      "source": [
        "# Ask the user again for another favorite movie\n",
        "Movie_Name = input('Enter your favourite movie name: ')\n",
        "list_of_all_titles = df['Movie_Title'].tolist()\n",
        "\n",
        "# Find the closest match for the input movie name\n",
        "Close_Match = difflib.get_close_matches(Movie_Name, list_of_all_titles, n=1, cutoff=0.6)\n",
        "\n",
        "# If a match is found, display the top 10 recommended movies\n",
        "if Close_Match:\n",
        "    Close_Match = Close_Match[0]\n",
        "    Index_of_Movie = df[df['Movie_Title'] == Close_Match]['Movie_ID'].values[0]\n",
        "    Recommendation_Score = list(enumerate(similarity_Score[Index_of_Movie]))\n",
        "    Sorted_Recommendation_Score = sorted(Recommendation_Score, key=lambda x: x[1], reverse=True)\n",
        "\n",
        "    print(\"Top 10 Movies Suggested for You:\\n\")\n",
        "    i = 1\n",
        "    for movie in Sorted_Recommendation_Score:\n",
        "        index = movie[0]\n",
        "        movie_title = df.loc[index, 'Movie_Title']\n",
        "        if i <= 10:\n",
        "            print(f\"{i}. {movie_title}\")\n",
        "            i += 1\n",
        "else:\n",
        "    print(\"No close match found for the entered movie name.\")\n"
      ],
      "metadata": {
        "colab": {
          "base_uri": "https://localhost:8080/"
        },
        "id": "z4wGeDOOFRhu",
        "outputId": "13a410ff-f217-4eeb-c209-da2b5f4a4a4b"
      },
      "execution_count": 9,
      "outputs": [
        {
          "output_type": "stream",
          "name": "stdout",
          "text": [
            "Enter your favourite movie name: avatarr\n",
            "Top 10 Movies Suggested for You:\n",
            "\n",
            "1. Niagara\n",
            "2. Harry Brown\n",
            "3. Eye for an Eye\n",
            "4. Welcome to the Sticks\n",
            "5. Back to the Future\n",
            "6. The Curse of Downers Grove\n",
            "7. Se7en\n",
            "8. Backmask\n",
            "9. Enough\n",
            "10. Yeh Jawaani Hai Deewani\n"
          ]
        }
      ]
    },
    {
      "cell_type": "markdown",
      "source": [
        "***Explanation***:\n",
        "The system uses TF-IDF Vectorization to convert text-based movie features into numerical form, which allows the calculation of cosine similarity between movies. This similarity score is used to find and rank movies that are closest in characteristics to the user's input, providing personalized recommendations.\n",
        "\n"
      ],
      "metadata": {
        "id": "Wk6PQSp-FWCg"
      }
    }
  ]
}